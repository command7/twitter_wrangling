{
 "cells": [
  {
   "cell_type": "markdown",
   "metadata": {},
   "source": [
    "## Quality Issues"
   ]
  },
  {
   "cell_type": "markdown",
   "metadata": {},
   "source": [
    "\n",
    "### `twitter_archive` table\n",
    "<ul>\n",
    "    <li>timestamp to date time data type</li>\n",
    "    <li>tweet_id to be converted to string data type from integer</li>\n",
    "    <li>contains retweets</li>\n",
    "    <li>unnecessary columns present [retweeted_status_id, retweeted_status_user_id,retweeted_status_timestamp, in_reply_to_status_id, in_reply_to_user_id]</li>                                 \n",
    "</ul>\n",
    "\n",
    "### `image_pred` table\n",
    "<ul>\n",
    "    <li>\"a\" tags in source</li>    \n",
    "    <li>\"_\" used as separator in p1 column of image_pred df</li>\n",
    "    <li>\"_\" used as separator in p2 column of image_pred df</li>\n",
    "    <li>\"_\" used as separator in p3 column of image_pred df</li>\n",
    "    <li>tweet_id in image_pred to be converted to string data type from integer</li>\n",
    "    <li>image_num to String data type</li>\n",
    "    <li> \"-\" in certain letters to split them</li>\n",
    "    <li>Not all first names, second names and third names are capitalized</li>\n",
    "</ul>\n",
    "\n",
    "### `tweet_info` table\n",
    "<ul>\n",
    "    <li>timestamp should be date time data type</li>\n",
    "    <li>retweet_count column should be integer</li>\n",
    "    <li>favorite_count should be integer</li>\n",
    "</ul>"
   ]
  },
  {
   "cell_type": "markdown",
   "metadata": {},
   "source": [
    "## Tidiness Issues"
   ]
  },
  {
   "cell_type": "markdown",
   "metadata": {},
   "source": [
    "<ul>\n",
    "    <li>Type of dog in \"doggo\", \"floofer\", \"pupper\", \"puppo\" columns instead of one column.</li>\n",
    "    <li>`tweet_info` table should be a part of `twitter_archive` table</li>\n",
    "</ul>"
   ]
  },
  {
   "cell_type": "markdown",
   "metadata": {},
   "source": [
    "# Clean"
   ]
  },
  {
   "cell_type": "code",
   "execution_count": 12,
   "metadata": {},
   "outputs": [],
   "source": [
    "twitter_clean = twitter_archive.copy()\n",
    "image_pred_clean = image_pred.copy()\n",
    "tweet_info_clean = tweet_info.copy()"
   ]
  },
  {
   "cell_type": "markdown",
   "metadata": {},
   "source": [
    "## `twitter_archive` has retweets present in it"
   ]
  },
  {
   "cell_type": "markdown",
   "metadata": {},
   "source": [
    "### Define\n",
    "\n",
    "Get indices of rows that contain retweets, drop these rows and reindex"
   ]
  },
  {
   "cell_type": "markdown",
   "metadata": {},
   "source": [
    "### Code"
   ]
  },
  {
   "cell_type": "code",
   "execution_count": 13,
   "metadata": {},
   "outputs": [],
   "source": [
    "temp_df = twitter_clean[twitter_clean.retweeted_status_id.notnull()]\n",
    "retweet_indices = list(temp_df.index.values)\n",
    "twitter_clean.drop(index=retweet_indices, axis=0, inplace=True)\n",
    "twitter_clean=twitter_clean.reset_index(drop=True)"
   ]
  },
  {
   "cell_type": "markdown",
   "metadata": {},
   "source": [
    "### Test"
   ]
  },
  {
   "cell_type": "code",
   "execution_count": 14,
   "metadata": {},
   "outputs": [
    {
     "data": {
      "text/html": [
       "<div>\n",
       "<style scoped>\n",
       "    .dataframe tbody tr th:only-of-type {\n",
       "        vertical-align: middle;\n",
       "    }\n",
       "\n",
       "    .dataframe tbody tr th {\n",
       "        vertical-align: top;\n",
       "    }\n",
       "\n",
       "    .dataframe thead th {\n",
       "        text-align: right;\n",
       "    }\n",
       "</style>\n",
       "<table border=\"1\" class=\"dataframe\">\n",
       "  <thead>\n",
       "    <tr style=\"text-align: right;\">\n",
       "      <th></th>\n",
       "      <th>tweet_id</th>\n",
       "      <th>in_reply_to_status_id</th>\n",
       "      <th>in_reply_to_user_id</th>\n",
       "      <th>timestamp</th>\n",
       "      <th>source</th>\n",
       "      <th>text</th>\n",
       "      <th>retweeted_status_id</th>\n",
       "      <th>retweeted_status_user_id</th>\n",
       "      <th>retweeted_status_timestamp</th>\n",
       "      <th>expanded_urls</th>\n",
       "      <th>rating_numerator</th>\n",
       "      <th>rating_denominator</th>\n",
       "      <th>name</th>\n",
       "      <th>doggo</th>\n",
       "      <th>floofer</th>\n",
       "      <th>pupper</th>\n",
       "      <th>puppo</th>\n",
       "    </tr>\n",
       "  </thead>\n",
       "  <tbody>\n",
       "  </tbody>\n",
       "</table>\n",
       "</div>"
      ],
      "text/plain": [
       "Empty DataFrame\n",
       "Columns: [tweet_id, in_reply_to_status_id, in_reply_to_user_id, timestamp, source, text, retweeted_status_id, retweeted_status_user_id, retweeted_status_timestamp, expanded_urls, rating_numerator, rating_denominator, name, doggo, floofer, pupper, puppo]\n",
       "Index: []"
      ]
     },
     "execution_count": 14,
     "metadata": {},
     "output_type": "execute_result"
    }
   ],
   "source": [
    "twitter_clean[twitter_clean.retweeted_status_id.notnull()]"
   ]
  },
  {
   "cell_type": "markdown",
   "metadata": {},
   "source": [
    "## `twitter_archive` Unnecessary columns present in table"
   ]
  },
  {
   "cell_type": "markdown",
   "metadata": {},
   "source": [
    "### Define\n",
    "\n",
    "Remove retweeted_status_id, retweeted_status_user_id,retweeted_status_timestamp, in_reply_to_status_id, in_reply_to_user_id columns as they are not necessary for our analyses."
   ]
  },
  {
   "cell_type": "markdown",
   "metadata": {},
   "source": [
    "### Code"
   ]
  },
  {
   "cell_type": "code",
   "execution_count": 15,
   "metadata": {},
   "outputs": [],
   "source": [
    "twitter_clean.drop([\"retweeted_status_id\", \"retweeted_status_user_id\", \"retweeted_status_timestamp\", \\\n",
    "                    \"in_reply_to_status_id\", \"in_reply_to_user_id\"], axis=1, inplace=True)\n"
   ]
  },
  {
   "cell_type": "markdown",
   "metadata": {},
   "source": [
    "### Test"
   ]
  },
  {
   "cell_type": "code",
   "execution_count": 16,
   "metadata": {},
   "outputs": [
    {
     "name": "stdout",
     "output_type": "stream",
     "text": [
      "<class 'pandas.core.frame.DataFrame'>\n",
      "RangeIndex: 2175 entries, 0 to 2174\n",
      "Data columns (total 12 columns):\n",
      "tweet_id              2175 non-null int64\n",
      "timestamp             2175 non-null object\n",
      "source                2175 non-null object\n",
      "text                  2175 non-null object\n",
      "expanded_urls         2117 non-null object\n",
      "rating_numerator      2175 non-null int64\n",
      "rating_denominator    2175 non-null int64\n",
      "name                  2175 non-null object\n",
      "doggo                 2175 non-null object\n",
      "floofer               2175 non-null object\n",
      "pupper                2175 non-null object\n",
      "puppo                 2175 non-null object\n",
      "dtypes: int64(3), object(9)\n",
      "memory usage: 204.0+ KB\n"
     ]
    }
   ],
   "source": [
    "twitter_clean.info()"
   ]
  },
  {
   "cell_type": "markdown",
   "metadata": {},
   "source": [
    "## `twitter_archive`: timestamp to date time data type"
   ]
  },
  {
   "cell_type": "markdown",
   "metadata": {},
   "source": [
    "### Define"
   ]
  },
  {
   "cell_type": "markdown",
   "metadata": {},
   "source": [
    "timestamp column is in object data type and changing it to date_time date type makes analysis easier"
   ]
  },
  {
   "cell_type": "markdown",
   "metadata": {},
   "source": [
    "### Code"
   ]
  },
  {
   "cell_type": "code",
   "execution_count": 17,
   "metadata": {},
   "outputs": [],
   "source": [
    "twitter_clean[\"timestamp\"] = pd.to_datetime(twitter_archive[\"timestamp\"])"
   ]
  },
  {
   "cell_type": "markdown",
   "metadata": {},
   "source": [
    "### Test"
   ]
  },
  {
   "cell_type": "code",
   "execution_count": 18,
   "metadata": {},
   "outputs": [
    {
     "name": "stdout",
     "output_type": "stream",
     "text": [
      "<class 'pandas.core.frame.DataFrame'>\n",
      "RangeIndex: 2175 entries, 0 to 2174\n",
      "Data columns (total 12 columns):\n",
      "tweet_id              2175 non-null int64\n",
      "timestamp             2175 non-null datetime64[ns]\n",
      "source                2175 non-null object\n",
      "text                  2175 non-null object\n",
      "expanded_urls         2117 non-null object\n",
      "rating_numerator      2175 non-null int64\n",
      "rating_denominator    2175 non-null int64\n",
      "name                  2175 non-null object\n",
      "doggo                 2175 non-null object\n",
      "floofer               2175 non-null object\n",
      "pupper                2175 non-null object\n",
      "puppo                 2175 non-null object\n",
      "dtypes: datetime64[ns](1), int64(3), object(8)\n",
      "memory usage: 204.0+ KB\n"
     ]
    }
   ],
   "source": [
    "twitter_clean.info()"
   ]
  },
  {
   "cell_type": "markdown",
   "metadata": {},
   "source": [
    "## `image_pred`: HTML a tags in source column"
   ]
  },
  {
   "cell_type": "markdown",
   "metadata": {},
   "source": [
    "### Define\n",
    "\n",
    "URL links are enclosed inside opening and closing \"a\" tags."
   ]
  },
  {
   "cell_type": "markdown",
   "metadata": {},
   "source": [
    "### Code"
   ]
  },
  {
   "cell_type": "code",
   "execution_count": 19,
   "metadata": {},
   "outputs": [],
   "source": [
    "twitter_clean[\"source\"] = twitter_clean[\"source\"].str.extract(r'(http[^\\\"^\\s]*)')"
   ]
  },
  {
   "cell_type": "markdown",
   "metadata": {},
   "source": [
    "### Test"
   ]
  },
  {
   "cell_type": "code",
   "execution_count": 20,
   "metadata": {},
   "outputs": [
    {
     "data": {
      "text/plain": [
       "934     http://twitter.com/download/iphone\n",
       "361     http://twitter.com/download/iphone\n",
       "1528    http://twitter.com/download/iphone\n",
       "9       http://twitter.com/download/iphone\n",
       "1381    http://twitter.com/download/iphone\n",
       "2006    http://twitter.com/download/iphone\n",
       "952     http://twitter.com/download/iphone\n",
       "1143    http://twitter.com/download/iphone\n",
       "45      http://twitter.com/download/iphone\n",
       "2043    http://twitter.com/download/iphone\n",
       "Name: source, dtype: object"
      ]
     },
     "execution_count": 20,
     "metadata": {},
     "output_type": "execute_result"
    }
   ],
   "source": [
    "twitter_clean.source.sample(10)"
   ]
  },
  {
   "cell_type": "code",
   "execution_count": 21,
   "metadata": {},
   "outputs": [
    {
     "data": {
      "text/html": [
       "<div>\n",
       "<style scoped>\n",
       "    .dataframe tbody tr th:only-of-type {\n",
       "        vertical-align: middle;\n",
       "    }\n",
       "\n",
       "    .dataframe tbody tr th {\n",
       "        vertical-align: top;\n",
       "    }\n",
       "\n",
       "    .dataframe thead th {\n",
       "        text-align: right;\n",
       "    }\n",
       "</style>\n",
       "<table border=\"1\" class=\"dataframe\">\n",
       "  <thead>\n",
       "    <tr style=\"text-align: right;\">\n",
       "      <th></th>\n",
       "      <th>tweet_id</th>\n",
       "      <th>timestamp</th>\n",
       "      <th>retweet_count</th>\n",
       "      <th>favorite_count</th>\n",
       "    </tr>\n",
       "  </thead>\n",
       "  <tbody>\n",
       "    <tr>\n",
       "      <th>0</th>\n",
       "      <td>892420643555336193</td>\n",
       "      <td>Tue Aug 01 16:23:56 +0000 2017</td>\n",
       "      <td>8330</td>\n",
       "      <td>38100</td>\n",
       "    </tr>\n",
       "    <tr>\n",
       "      <th>1</th>\n",
       "      <td>892177421306343426</td>\n",
       "      <td>Tue Aug 01 00:17:27 +0000 2017</td>\n",
       "      <td>6154</td>\n",
       "      <td>32690</td>\n",
       "    </tr>\n",
       "    <tr>\n",
       "      <th>2</th>\n",
       "      <td>891815181378084864</td>\n",
       "      <td>Mon Jul 31 00:18:03 +0000 2017</td>\n",
       "      <td>4072</td>\n",
       "      <td>24599</td>\n",
       "    </tr>\n",
       "    <tr>\n",
       "      <th>3</th>\n",
       "      <td>891689557279858688</td>\n",
       "      <td>Sun Jul 30 15:58:51 +0000 2017</td>\n",
       "      <td>8474</td>\n",
       "      <td>41456</td>\n",
       "    </tr>\n",
       "    <tr>\n",
       "      <th>4</th>\n",
       "      <td>891327558926688256</td>\n",
       "      <td>Sat Jul 29 16:00:24 +0000 2017</td>\n",
       "      <td>9168</td>\n",
       "      <td>39628</td>\n",
       "    </tr>\n",
       "  </tbody>\n",
       "</table>\n",
       "</div>"
      ],
      "text/plain": [
       "             tweet_id                       timestamp retweet_count  \\\n",
       "0  892420643555336193  Tue Aug 01 16:23:56 +0000 2017          8330   \n",
       "1  892177421306343426  Tue Aug 01 00:17:27 +0000 2017          6154   \n",
       "2  891815181378084864  Mon Jul 31 00:18:03 +0000 2017          4072   \n",
       "3  891689557279858688  Sun Jul 30 15:58:51 +0000 2017          8474   \n",
       "4  891327558926688256  Sat Jul 29 16:00:24 +0000 2017          9168   \n",
       "\n",
       "  favorite_count  \n",
       "0          38100  \n",
       "1          32690  \n",
       "2          24599  \n",
       "3          41456  \n",
       "4          39628  "
      ]
     },
     "execution_count": 21,
     "metadata": {},
     "output_type": "execute_result"
    }
   ],
   "source": [
    "tweet_info.head(5)"
   ]
  },
  {
   "cell_type": "markdown",
   "metadata": {},
   "source": [
    "## `tweet_info` tweet id should be a string"
   ]
  },
  {
   "cell_type": "markdown",
   "metadata": {},
   "source": [
    "### Define\n",
    "\n",
    "Convert tweet_id column to integer data type"
   ]
  },
  {
   "cell_type": "markdown",
   "metadata": {},
   "source": [
    "### Code"
   ]
  },
  {
   "cell_type": "code",
   "execution_count": 22,
   "metadata": {},
   "outputs": [],
   "source": [
    "tweet_info_clean[\"tweet_id\"] = tweet_info_clean.tweet_id.astype(int)"
   ]
  },
  {
   "cell_type": "markdown",
   "metadata": {},
   "source": [
    "### Test"
   ]
  },
  {
   "cell_type": "code",
   "execution_count": 23,
   "metadata": {},
   "outputs": [
    {
     "name": "stdout",
     "output_type": "stream",
     "text": [
      "<class 'pandas.core.frame.DataFrame'>\n",
      "RangeIndex: 2175 entries, 0 to 2174\n",
      "Data columns (total 12 columns):\n",
      "tweet_id              2175 non-null int64\n",
      "timestamp             2175 non-null datetime64[ns]\n",
      "source                2175 non-null object\n",
      "text                  2175 non-null object\n",
      "expanded_urls         2117 non-null object\n",
      "rating_numerator      2175 non-null int64\n",
      "rating_denominator    2175 non-null int64\n",
      "name                  2175 non-null object\n",
      "doggo                 2175 non-null object\n",
      "floofer               2175 non-null object\n",
      "pupper                2175 non-null object\n",
      "puppo                 2175 non-null object\n",
      "dtypes: datetime64[ns](1), int64(3), object(8)\n",
      "memory usage: 204.0+ KB\n"
     ]
    }
   ],
   "source": [
    "twitter_clean.info()"
   ]
  },
  {
   "cell_type": "markdown",
   "metadata": {},
   "source": [
    "## `twitter_archive` tweet_id should be a string"
   ]
  },
  {
   "cell_type": "markdown",
   "metadata": {},
   "source": [
    "### Define\n",
    "Convert tweet_id to String"
   ]
  },
  {
   "cell_type": "markdown",
   "metadata": {},
   "source": [
    "## Code"
   ]
  },
  {
   "cell_type": "code",
   "execution_count": 24,
   "metadata": {},
   "outputs": [],
   "source": [
    "twitter_clean[\"tweet_id\"] = twitter_clean.tweet_id.astype(str)"
   ]
  },
  {
   "cell_type": "markdown",
   "metadata": {},
   "source": [
    "### Test"
   ]
  },
  {
   "cell_type": "code",
   "execution_count": 25,
   "metadata": {},
   "outputs": [
    {
     "name": "stdout",
     "output_type": "stream",
     "text": [
      "<class 'pandas.core.frame.DataFrame'>\n",
      "RangeIndex: 2175 entries, 0 to 2174\n",
      "Data columns (total 12 columns):\n",
      "tweet_id              2175 non-null object\n",
      "timestamp             2175 non-null datetime64[ns]\n",
      "source                2175 non-null object\n",
      "text                  2175 non-null object\n",
      "expanded_urls         2117 non-null object\n",
      "rating_numerator      2175 non-null int64\n",
      "rating_denominator    2175 non-null int64\n",
      "name                  2175 non-null object\n",
      "doggo                 2175 non-null object\n",
      "floofer               2175 non-null object\n",
      "pupper                2175 non-null object\n",
      "puppo                 2175 non-null object\n",
      "dtypes: datetime64[ns](1), int64(2), object(9)\n",
      "memory usage: 204.0+ KB\n"
     ]
    }
   ],
   "source": [
    "twitter_clean.info()"
   ]
  },
  {
   "cell_type": "markdown",
   "metadata": {},
   "source": [
    "## `image_pred` \"_\" used as separators in p1, p2 and p3"
   ]
  },
  {
   "cell_type": "markdown",
   "metadata": {},
   "source": [
    "### Define\n",
    "Replace _ with spaces in p1, p2 and p3 columns"
   ]
  },
  {
   "cell_type": "markdown",
   "metadata": {},
   "source": [
    "### Code"
   ]
  },
  {
   "cell_type": "code",
   "execution_count": 26,
   "metadata": {},
   "outputs": [
    {
     "data": {
      "text/plain": [
       "0    Welsh_springer_spaniel\n",
       "1                   redbone\n",
       "2           German_shepherd\n",
       "3       Rhodesian_ridgeback\n",
       "4        miniature_pinscher\n",
       "Name: p1, dtype: object"
      ]
     },
     "execution_count": 26,
     "metadata": {},
     "output_type": "execute_result"
    }
   ],
   "source": [
    "image_pred_clean.p1.head()"
   ]
  },
  {
   "cell_type": "code",
   "execution_count": 27,
   "metadata": {},
   "outputs": [],
   "source": [
    "image_pred_clean[\"p1\"] = image_pred_clean.p1.str.replace(\"_\", \" \")\n",
    "image_pred_clean[\"p2\"] = image_pred_clean.p2.str.replace(\"_\", \" \")\n",
    "image_pred_clean[\"p3\"] = image_pred_clean.p3.str.replace(\"_\", \" \")"
   ]
  },
  {
   "cell_type": "markdown",
   "metadata": {},
   "source": [
    "### Test"
   ]
  },
  {
   "cell_type": "code",
   "execution_count": 28,
   "metadata": {},
   "outputs": [
    {
     "name": "stdout",
     "output_type": "stream",
     "text": [
      "0    Welsh springer spaniel\n",
      "1                   redbone\n",
      "2           German shepherd\n",
      "3       Rhodesian ridgeback\n",
      "4        miniature pinscher\n",
      "Name: p1, dtype: object\n",
      "0                collie\n",
      "1    miniature pinscher\n",
      "2              malinois\n",
      "3               redbone\n",
      "4            Rottweiler\n",
      "Name: p2, dtype: object\n",
      "0      Shetland sheepdog\n",
      "1    Rhodesian ridgeback\n",
      "2             bloodhound\n",
      "3     miniature pinscher\n",
      "4               Doberman\n",
      "Name: p3, dtype: object\n"
     ]
    }
   ],
   "source": [
    "print(image_pred_clean.p1.head())\n",
    "print(image_pred_clean.p2.head())\n",
    "print(image_pred_clean.p3.head())"
   ]
  },
  {
   "cell_type": "markdown",
   "metadata": {},
   "source": [
    "## `image_pred` \"-\" used as separator of names in some rows"
   ]
  },
  {
   "cell_type": "markdown",
   "metadata": {},
   "source": [
    "### Define\n",
    "\n",
    "Replace - with spaces in p1, p2 and p3 colunns"
   ]
  },
  {
   "cell_type": "markdown",
   "metadata": {},
   "source": [
    "### Code"
   ]
  },
  {
   "cell_type": "code",
   "execution_count": 29,
   "metadata": {},
   "outputs": [],
   "source": [
    "image_pred_clean[\"p1\"] = image_pred_clean.p1.str.replace(\"-\", \" \")\n",
    "image_pred_clean[\"p2\"] = image_pred_clean.p2.str.replace(\"-\", \" \")\n",
    "image_pred_clean[\"p3\"] = image_pred_clean.p3.str.replace(\"-\", \" \")"
   ]
  },
  {
   "cell_type": "markdown",
   "metadata": {},
   "source": [
    "### Test"
   ]
  },
  {
   "cell_type": "code",
   "execution_count": 30,
   "metadata": {},
   "outputs": [
    {
     "data": {
      "text/plain": [
       "1297                upright\n",
       "98              fire engine\n",
       "1015              Chihuahua\n",
       "786                     pug\n",
       "742             Boston bull\n",
       "760                Cardigan\n",
       "1597        Norfolk terrier\n",
       "436              brown bear\n",
       "1820    Rhodesian ridgeback\n",
       "1096       Mexican hairless\n",
       "Name: p1, dtype: object"
      ]
     },
     "execution_count": 30,
     "metadata": {},
     "output_type": "execute_result"
    }
   ],
   "source": [
    "image_pred_clean.p1.sample(10)"
   ]
  },
  {
   "cell_type": "markdown",
   "metadata": {},
   "source": [
    "## `image_pred` Not all first names, second names and third names are capitalized"
   ]
  },
  {
   "cell_type": "markdown",
   "metadata": {},
   "source": [
    "### Define\n",
    "\n",
    "Capitalize the first letters of all rows in p1, p2 and p3 columns"
   ]
  },
  {
   "cell_type": "markdown",
   "metadata": {},
   "source": [
    "### Code"
   ]
  },
  {
   "cell_type": "code",
   "execution_count": 31,
   "metadata": {},
   "outputs": [],
   "source": [
    "image_pred_clean[\"p1\"] = image_pred_clean.p1.str.title()\n",
    "image_pred_clean[\"p2\"] = image_pred_clean.p2.str.title()\n",
    "image_pred_clean[\"p3\"] = image_pred_clean.p3.str.title()"
   ]
  },
  {
   "cell_type": "markdown",
   "metadata": {},
   "source": [
    "### Test"
   ]
  },
  {
   "cell_type": "code",
   "execution_count": 32,
   "metadata": {},
   "outputs": [
    {
     "name": "stdout",
     "output_type": "stream",
     "text": [
      "1453             Chihuahua\n",
      "1308    Miniature Pinscher\n",
      "137     Labrador Retriever\n",
      "182                Cuirass\n",
      "1569        Cocker Spaniel\n",
      "Name: p1, dtype: object\n",
      "102     Chesapeake Bay Retriever\n",
      "105               Siberian Husky\n",
      "130                        Skunk\n",
      "421            Rhinoceros Beetle\n",
      "1802                Ibizan Hound\n",
      "Name: p2, dtype: object\n",
      "377                          Kelpie\n",
      "1295               Golden Retriever\n",
      "1994                   Newfoundland\n",
      "48      West Highland White Terrier\n",
      "399                             Pug\n",
      "Name: p3, dtype: object\n"
     ]
    }
   ],
   "source": [
    "print(image_pred_clean.p1.sample(5))\n",
    "print(image_pred_clean.p2.sample(5))\n",
    "print(image_pred_clean.p3.sample(5))"
   ]
  },
  {
   "cell_type": "markdown",
   "metadata": {},
   "source": [
    "## `tweet_info` favorite count is an object"
   ]
  },
  {
   "cell_type": "markdown",
   "metadata": {},
   "source": [
    "### Define\n",
    "\n",
    "Convert favorite_count to integer data type"
   ]
  },
  {
   "cell_type": "markdown",
   "metadata": {},
   "source": [
    "### Code"
   ]
  },
  {
   "cell_type": "code",
   "execution_count": 33,
   "metadata": {},
   "outputs": [],
   "source": [
    "tweet_info_clean[\"favorite_count\"] = tweet_info_clean.favorite_count.astype(int)"
   ]
  },
  {
   "cell_type": "markdown",
   "metadata": {},
   "source": [
    "### Test"
   ]
  },
  {
   "cell_type": "code",
   "execution_count": 34,
   "metadata": {},
   "outputs": [
    {
     "name": "stdout",
     "output_type": "stream",
     "text": [
      "<class 'pandas.core.frame.DataFrame'>\n",
      "RangeIndex: 2340 entries, 0 to 2339\n",
      "Data columns (total 4 columns):\n",
      "tweet_id          2340 non-null int64\n",
      "timestamp         2340 non-null object\n",
      "retweet_count     2340 non-null object\n",
      "favorite_count    2340 non-null int64\n",
      "dtypes: int64(2), object(2)\n",
      "memory usage: 73.2+ KB\n"
     ]
    }
   ],
   "source": [
    "tweet_info_clean.info()"
   ]
  },
  {
   "cell_type": "markdown",
   "metadata": {},
   "source": [
    "## `tweet_info` retweet count should be a string"
   ]
  },
  {
   "cell_type": "markdown",
   "metadata": {},
   "source": [
    "### Define\n",
    "\n",
    "Convert retweet count column to integer data type"
   ]
  },
  {
   "cell_type": "markdown",
   "metadata": {},
   "source": [
    "### Code"
   ]
  },
  {
   "cell_type": "code",
   "execution_count": 35,
   "metadata": {},
   "outputs": [],
   "source": [
    "tweet_info_clean[\"retweet_count\"] = tweet_info_clean.retweet_count.astype(int)"
   ]
  },
  {
   "cell_type": "markdown",
   "metadata": {},
   "source": [
    "### Test"
   ]
  },
  {
   "cell_type": "code",
   "execution_count": 36,
   "metadata": {},
   "outputs": [
    {
     "name": "stdout",
     "output_type": "stream",
     "text": [
      "<class 'pandas.core.frame.DataFrame'>\n",
      "RangeIndex: 2340 entries, 0 to 2339\n",
      "Data columns (total 4 columns):\n",
      "tweet_id          2340 non-null int64\n",
      "timestamp         2340 non-null object\n",
      "retweet_count     2340 non-null int64\n",
      "favorite_count    2340 non-null int64\n",
      "dtypes: int64(3), object(1)\n",
      "memory usage: 73.2+ KB\n"
     ]
    }
   ],
   "source": [
    "tweet_info_clean.info()"
   ]
  },
  {
   "cell_type": "markdown",
   "metadata": {},
   "source": [
    "## `tweet_info` tweet_id should be a string"
   ]
  },
  {
   "cell_type": "markdown",
   "metadata": {},
   "source": [
    "### Define\n",
    "\n",
    "Convert tweet_id to String data type"
   ]
  },
  {
   "cell_type": "markdown",
   "metadata": {},
   "source": [
    "### Code"
   ]
  },
  {
   "cell_type": "code",
   "execution_count": 37,
   "metadata": {},
   "outputs": [],
   "source": [
    "tweet_info_clean[\"tweet_id\"] = tweet_info_clean.tweet_id.astype(str)"
   ]
  },
  {
   "cell_type": "markdown",
   "metadata": {},
   "source": [
    "### Test"
   ]
  },
  {
   "cell_type": "code",
   "execution_count": 38,
   "metadata": {},
   "outputs": [
    {
     "name": "stdout",
     "output_type": "stream",
     "text": [
      "<class 'pandas.core.frame.DataFrame'>\n",
      "RangeIndex: 2340 entries, 0 to 2339\n",
      "Data columns (total 4 columns):\n",
      "tweet_id          2340 non-null object\n",
      "timestamp         2340 non-null object\n",
      "retweet_count     2340 non-null int64\n",
      "favorite_count    2340 non-null int64\n",
      "dtypes: int64(2), object(2)\n",
      "memory usage: 73.2+ KB\n"
     ]
    }
   ],
   "source": [
    "tweet_info_clean.info()"
   ]
  },
  {
   "cell_type": "markdown",
   "metadata": {},
   "source": [
    "## `tweet_info` should be a part of `twitter_archive`"
   ]
  },
  {
   "cell_type": "markdown",
   "metadata": {},
   "source": [
    "### Define\n",
    "\n",
    "The columns \"retweet_count\" and \"favorite_counts\" should be a part of twitter_archive and these two can be merged on tweet_id"
   ]
  },
  {
   "cell_type": "markdown",
   "metadata": {},
   "source": [
    "### Code"
   ]
  },
  {
   "cell_type": "code",
   "execution_count": 39,
   "metadata": {},
   "outputs": [],
   "source": [
    "twitter_clean.drop(\"timestamp\",axis=1, inplace=True)\n",
    "twitter_clean = twitter_clean.merge(tweet_info_clean, how=\"left\", on=\"tweet_id\")"
   ]
  },
  {
   "cell_type": "markdown",
   "metadata": {},
   "source": [
    "### Test"
   ]
  },
  {
   "cell_type": "code",
   "execution_count": 40,
   "metadata": {},
   "outputs": [
    {
     "name": "stdout",
     "output_type": "stream",
     "text": [
      "<class 'pandas.core.frame.DataFrame'>\n",
      "Int64Index: 2175 entries, 0 to 2174\n",
      "Data columns (total 14 columns):\n",
      "tweet_id              2175 non-null object\n",
      "source                2175 non-null object\n",
      "text                  2175 non-null object\n",
      "expanded_urls         2117 non-null object\n",
      "rating_numerator      2175 non-null int64\n",
      "rating_denominator    2175 non-null int64\n",
      "name                  2175 non-null object\n",
      "doggo                 2175 non-null object\n",
      "floofer               2175 non-null object\n",
      "pupper                2175 non-null object\n",
      "puppo                 2175 non-null object\n",
      "timestamp             2173 non-null object\n",
      "retweet_count         2173 non-null float64\n",
      "favorite_count        2173 non-null float64\n",
      "dtypes: float64(2), int64(2), object(10)\n",
      "memory usage: 254.9+ KB\n"
     ]
    }
   ],
   "source": [
    "twitter_clean.info()"
   ]
  },
  {
   "cell_type": "markdown",
   "metadata": {},
   "source": [
    "## Sorting `twitter_archive` by timestamp"
   ]
  },
  {
   "cell_type": "code",
   "execution_count": 41,
   "metadata": {},
   "outputs": [],
   "source": [
    "twitter_clean.sort_values(by=[\"timestamp\"], inplace=True)"
   ]
  },
  {
   "cell_type": "markdown",
   "metadata": {},
   "source": [
    "## Remove rows with null values in retweet_count and favorite_count"
   ]
  },
  {
   "cell_type": "markdown",
   "metadata": {},
   "source": [
    "### Define\n",
    "\n",
    "Since there are only 3 rows with missing values in retweet_count and favorite_count, remove these rows from the data frame."
   ]
  },
  {
   "cell_type": "markdown",
   "metadata": {},
   "source": [
    "### Code"
   ]
  },
  {
   "cell_type": "code",
   "execution_count": 42,
   "metadata": {},
   "outputs": [],
   "source": [
    "twitter_clean = twitter_clean[twitter_clean.retweet_count.notnull()].reset_index(drop=True)"
   ]
  },
  {
   "cell_type": "markdown",
   "metadata": {},
   "source": [
    "### Test"
   ]
  },
  {
   "cell_type": "code",
   "execution_count": 43,
   "metadata": {},
   "outputs": [
    {
     "name": "stdout",
     "output_type": "stream",
     "text": [
      "<class 'pandas.core.frame.DataFrame'>\n",
      "RangeIndex: 2173 entries, 0 to 2172\n",
      "Data columns (total 14 columns):\n",
      "tweet_id              2173 non-null object\n",
      "source                2173 non-null object\n",
      "text                  2173 non-null object\n",
      "expanded_urls         2115 non-null object\n",
      "rating_numerator      2173 non-null int64\n",
      "rating_denominator    2173 non-null int64\n",
      "name                  2173 non-null object\n",
      "doggo                 2173 non-null object\n",
      "floofer               2173 non-null object\n",
      "pupper                2173 non-null object\n",
      "puppo                 2173 non-null object\n",
      "timestamp             2173 non-null object\n",
      "retweet_count         2173 non-null float64\n",
      "favorite_count        2173 non-null float64\n",
      "dtypes: float64(2), int64(2), object(10)\n",
      "memory usage: 237.8+ KB\n"
     ]
    }
   ],
   "source": [
    "twitter_clean.info()"
   ]
  },
  {
   "cell_type": "markdown",
   "metadata": {},
   "source": [
    "## One variable is present as 4 columns in `twitter_archive` table"
   ]
  },
  {
   "cell_type": "markdown",
   "metadata": {},
   "source": [
    "### Define\n",
    "\n",
    "Create a new column to store all dog stages that a dog in a tweet belongs and drop the 4 columns names puppo, pupper, floofer and doggo"
   ]
  },
  {
   "cell_type": "markdown",
   "metadata": {},
   "source": [
    "### Code"
   ]
  },
  {
   "cell_type": "code",
   "execution_count": 44,
   "metadata": {},
   "outputs": [],
   "source": [
    "def checkDogStage(a, b, c, d):\n",
    "    no_nulls = 0\n",
    "    output = \"\"\n",
    "    for i in [a,b,c,d]:\n",
    "        if i == None or i == \"None\":\n",
    "            no_nulls += 1\n",
    "        else:\n",
    "            output = output + i + \", \"\n",
    "    if no_nulls == 4:\n",
    "        return None\n",
    "    else:\n",
    "        return output.strip().strip(\",\")\n",
    "\n",
    "twitter_clean[\"dog_stages\"] = twitter_clean.apply(lambda row: checkDogStage(row.doggo, row.pupper, row.puppo, row.floofer), axis=1)\n",
    "twitter_clean.drop([\"puppo\", \"floofer\", \"pupper\", \"doggo\"], axis=1, inplace=True)"
   ]
  },
  {
   "cell_type": "markdown",
   "metadata": {},
   "source": [
    "### Test"
   ]
  },
  {
   "cell_type": "code",
   "execution_count": 45,
   "metadata": {},
   "outputs": [
    {
     "data": {
      "text/plain": [
       "755     pupper\n",
       "90        None\n",
       "668       None\n",
       "918       None\n",
       "1708      None\n",
       "2095      None\n",
       "1705      None\n",
       "965       None\n",
       "539       None\n",
       "1067      None\n",
       "Name: dog_stages, dtype: object"
      ]
     },
     "execution_count": 45,
     "metadata": {},
     "output_type": "execute_result"
    }
   ],
   "source": [
    "twitter_clean.dog_stages.sample(10)"
   ]
  },
  {
   "cell_type": "code",
   "execution_count": 46,
   "metadata": {},
   "outputs": [
    {
     "name": "stdout",
     "output_type": "stream",
     "text": [
      "<class 'pandas.core.frame.DataFrame'>\n",
      "RangeIndex: 2173 entries, 0 to 2172\n",
      "Data columns (total 11 columns):\n",
      "tweet_id              2173 non-null object\n",
      "source                2173 non-null object\n",
      "text                  2173 non-null object\n",
      "expanded_urls         2115 non-null object\n",
      "rating_numerator      2173 non-null int64\n",
      "rating_denominator    2173 non-null int64\n",
      "name                  2173 non-null object\n",
      "timestamp             2173 non-null object\n",
      "retweet_count         2173 non-null float64\n",
      "favorite_count        2173 non-null float64\n",
      "dog_stages            344 non-null object\n",
      "dtypes: float64(2), int64(2), object(7)\n",
      "memory usage: 186.8+ KB\n"
     ]
    }
   ],
   "source": [
    "twitter_clean.info()"
   ]
  },
  {
   "cell_type": "code",
   "execution_count": null,
   "metadata": {},
   "outputs": [],
   "source": []
  }
 ],
 "metadata": {
  "kernelspec": {
   "display_name": "Python 3",
   "language": "python",
   "name": "python3"
  },
  "language_info": {
   "codemirror_mode": {
    "name": "ipython",
    "version": 3
   },
   "file_extension": ".py",
   "mimetype": "text/x-python",
   "name": "python",
   "nbconvert_exporter": "python",
   "pygments_lexer": "ipython3",
   "version": "3.6.7"
  }
 },
 "nbformat": 4,
 "nbformat_minor": 2
}
